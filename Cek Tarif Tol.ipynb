{
 "cells": [
  {
   "cell_type": "code",
   "execution_count": null,
   "metadata": {},
   "outputs": [],
   "source": [
    "import logging, warnings\n",
    "from selenium.webdriver.remote.remote_connection import LOGGER\n",
    "\n",
    "# Menghilangkan WARNINGs dan ERRORs\n",
    "warnings.filterwarnings('ignore')\n",
    "warnings.simplefilter('ignore')\n",
    "logging.getLogger(\"urllib3\").setLevel(logging.WARNING)\n",
    "logging.getLogger(\"urllib3\").propagate = False\n",
    "LOGGER.setLevel(logging.WARNING)"
   ]
  },
  {
   "cell_type": "code",
   "execution_count": null,
   "metadata": {
    "scrolled": false
   },
   "outputs": [],
   "source": [
    "import pandas as pd\n",
    "from time import sleep\n",
    "from selenium import webdriver\n",
    "from selenium.webdriver.support.select import Select\n",
    "\n",
    "# URL yang Akan Diambil Datanya\n",
    "url = \"http://bpjt.pu.go.id/cek-tarif-tol\"\n",
    "\n",
    "# Menggunakan Driver Microsoft Edge\n",
    "driver = webdriver.Edge(\"msedgedriver.exe\")\n",
    "driver.get(url)\n",
    "\n",
    "# Definisi Variabel\n",
    "time     = 0.25\n",
    "data     = []\n",
    "ruas     = Select(driver.find_element_by_xpath('//*[@id=\"toll_road\"]'))\n",
    "masuk    = Select(driver.find_element_by_xpath('//*[@id=\"toll_gates\"]'))\n",
    "keluar   = Select(driver.find_element_by_xpath('//*[@id=\"toll_gates2\"]'))\n",
    "golongan = Select(driver.find_element_by_xpath('//*[@id=\"veh_gr\"]'))\n",
    "tarif    = driver.find_element_by_xpath('//*[@id=\"tarif\"]')\n",
    "\n",
    "# Mengambil Ruas Jalan Tol\n",
    "for r in range(len(ruas.options) - 1):\n",
    "    ruas.select_by_index(r + 1)\n",
    "    \n",
    "    sleep(time)\n",
    "    \n",
    "    # Mengambil Gerbang Masuk\n",
    "    for m in range(len(masuk.options) - 1):\n",
    "        masuk.select_by_index(m + 1)\n",
    "        \n",
    "        sleep(time)\n",
    "        \n",
    "        # Mengambil Gerbang Keluar\n",
    "        for k in range(len(keluar.options) - 1):\n",
    "            keluar.select_by_index(k + 1)\n",
    "            \n",
    "            sleep(time)\n",
    "        \n",
    "            # Mengambil Golongan Kendaraan\n",
    "            for g in range(len(golongan.options) - 1):\n",
    "                golongan.select_by_index(g + 1)\n",
    "                \n",
    "                sleep(time)\n",
    "                \n",
    "                # Mengambil Tarif Tol\n",
    "                tarif_tol = tarif.text\n",
    "\n",
    "                data.append([ruas.options[r + 1].text,\n",
    "                             masuk.options[m + 1].text,\n",
    "                             keluar.options[k + 1].text,\n",
    "                             golongan.options[g + 1].text,\n",
    "                             tarif_tol])"
   ]
  },
  {
   "cell_type": "code",
   "execution_count": null,
   "metadata": {
    "scrolled": false
   },
   "outputs": [],
   "source": [
    "data"
   ]
  },
  {
   "cell_type": "code",
   "execution_count": null,
   "metadata": {
    "scrolled": true
   },
   "outputs": [],
   "source": [
    "hasil = pd.DataFrame(data, columns = ['Ruas Jalan Tol', \n",
    "                                      'Gerbang Masuk',\n",
    "                                      'Gerbang Keluar',\n",
    "                                      'Golongan Kendaraan',\n",
    "                                      'Tarif Tol'])\n",
    "hasil"
   ]
  },
  {
   "cell_type": "code",
   "execution_count": null,
   "metadata": {},
   "outputs": [],
   "source": [
    "hasil.to_csv('Cek Tarif Tol.csv', index = False, header = True)"
   ]
  }
 ],
 "metadata": {
  "kernelspec": {
   "display_name": "Python 3",
   "language": "python",
   "name": "python3"
  },
  "language_info": {
   "codemirror_mode": {
    "name": "ipython",
    "version": 3
   },
   "file_extension": ".py",
   "mimetype": "text/x-python",
   "name": "python",
   "nbconvert_exporter": "python",
   "pygments_lexer": "ipython3",
   "version": "3.7.6"
  }
 },
 "nbformat": 4,
 "nbformat_minor": 4
}
